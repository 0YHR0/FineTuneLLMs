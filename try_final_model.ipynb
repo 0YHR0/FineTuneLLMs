{
 "cells": [
  {
   "cell_type": "code",
   "execution_count": null,
   "id": "9034ef81-7887-4b8b-96fb-0db4260def05",
   "metadata": {},
   "outputs": [],
   "source": [
    "import torch\n",
    "from transformers import pipeline\n",
    "\n",
    "pipe = pipeline(\"text-generation\", model=\"Kastanie99/zephyr-7b-beta-req-haoran-mt-16042024\", torch_dtype=torch.bfloat16, device_map=\"auto\")\n",
    "\n",
    "# We use the tokenizer's chat template to format each message - see https://huggingface.co/docs/transformers/main/en/chat_templating"
   ]
  },
  {
   "cell_type": "code",
   "execution_count": null,
   "id": "ecb49657-bf5a-4541-b474-dfb4cc7178eb",
   "metadata": {},
   "outputs": [],
   "source": [
    "print('''The provided requirement has the following transformational effects:\\n\\n1 - Incompletely Specified Process Verbs: The verb \"shall be assigned\" uses passive voice, not specifying who or what system component is responsible for assigning UIDs to sample sites.\\n2 - Nouns without Reference Index: While \"Unique UIDs\" and \"surface water quality sample sites\" are relatively clear, there\\'s a lack of specificity regarding the system or process that will manage these IDs and how uniqueness is ensured across the dataset.\\n\\nAnd here I give you the rewritten example to eliminate these transformational effects:\\n\"The Water Quality Monitoring System must automatically generate and allocate a unique identifier (UID) to each new surface water quality sampling site registered in the database. This process ensures that every site can be distinctly identified, facilitating accurate data collection and analysis. The system\\'s UID management module will enforce the uniqueness of each identifier by comparing new IDs against existing records before assignment, preventing duplication and ensuring coherent site tracking.''')"
   ]
  },
  {
   "cell_type": "code",
   "execution_count": null,
   "id": "b163024f-edd6-466a-add4-b18ee82905d0",
   "metadata": {},
   "outputs": [],
   "source": [
    "messages = [\n",
    "    {\n",
    "        \"role\": \"system\",\n",
    "        \"content\": \"You are a professional requirements engineer who helps users brainstorm software requirements and rewrite software requirements to make it ISO-29148 compliant and free of transformational effects.\",\n",
    "    },\n",
    "    {\"role\": \"user\", \"content\": '''Detect any transformational effects in the below-given requirement:\n",
    "    The restaurant system shall offer all beverages to a registered guest over the age of 20 years.'''},\n",
    "]\n",
    "prompt = pipe.tokenizer.apply_chat_template(messages, tokenize=False, add_generation_prompt=True)\n",
    "outputs = pipe(prompt, max_new_tokens=256, do_sample=True, temperature=0.7, top_k=50, top_p=0.95)\n",
    "print(outputs[0][\"generated_text\"])"
   ]
  },
  {
   "cell_type": "code",
   "execution_count": null,
   "id": "2c8cd275-7671-4238-8143-1bb6e111e015",
   "metadata": {},
   "outputs": [],
   "source": [
    "messages = [\n",
    "    {\n",
    "        \"role\": \"system\",\n",
    "        \"content\": \"You are a professional requirements engineer who helps users brainstorm more software requirements and rewrite better software requirements.\",\n",
    "    },\n",
    "    {\"role\": \"user\", \"content\": '''Detect any transformational effects in the below-given requirement and re-write it:\n",
    "    The restaurant system shall offer all beverages to a registered guest over the age of 20 years.'''},\n",
    "]\n",
    "prompt = pipe.tokenizer.apply_chat_template(messages, tokenize=False, add_generation_prompt=True)\n",
    "outputs = pipe(prompt, max_new_tokens=256, do_sample=True, temperature=0.7, top_k=50, top_p=0.95)\n",
    "print(outputs[0][\"generated_text\"])"
   ]
  },
  {
   "cell_type": "code",
   "execution_count": null,
   "id": "ebcb8d39-7973-4b76-ae42-4d37711f6fc9",
   "metadata": {},
   "outputs": [],
   "source": []
  }
 ],
 "metadata": {
  "kernelspec": {
   "display_name": "Python 3 (ipykernel)",
   "language": "python",
   "name": "python3"
  },
  "language_info": {
   "codemirror_mode": {
    "name": "ipython",
    "version": 3
   },
   "file_extension": ".py",
   "mimetype": "text/x-python",
   "name": "python",
   "nbconvert_exporter": "python",
   "pygments_lexer": "ipython3",
   "version": "3.10.5"
  }
 },
 "nbformat": 4,
 "nbformat_minor": 5
}
