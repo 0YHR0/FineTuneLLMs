{
 "cells": [
  {
   "cell_type": "code",
   "execution_count": null,
   "id": "4beab5aa-5d05-4227-a71e-a0b050975ad9",
   "metadata": {
    "scrolled": true
   },
   "outputs": [],
   "source": [
    "import datasets\n",
    "\n",
    "\n",
    "\n",
    "my_path_komodo = 'E:\\\\files\\\\Stuttgart\\\\Thesis\\\\NLP\\\\saved_datasets\\\\final_instruction_dataset_02042024\\\\Komodo_instructions_13042024'\n",
    "my_path_llama = 'E:\\\\files\\\\Stuttgart\\\\Thesis\\\\NLP\\\\saved_datasets\\\\final_instruction_dataset_02042024\\\\llama_instructions_13042024'\n",
    "my_path_zepyra = 'E:\\\\files\\\\Stuttgart\\\\Thesis\\\\NLP\\\\saved_datasets\\\\final_instruction_dataset_02042024\\\\zepyra_instructions_13042024'\n",
    "path_llama='E:\\\\files\\\\Stuttgart\\\\Thesis\\\\NLP\\\\saved_datasets\\\\reqbrain_rep_package\\\\instruct_datasets\\\\llama-requirement_generation_dataset'\n",
    "path_falcon='E:\\\\files\\\\Stuttgart\\\\Thesis\\\\NLP\\\\saved_datasets\\\\reqbrain_rep_package\\\\instruct_datasets\\\\falcon_requirement_generation_dataset'\n",
    "path_zephyr='E:\\\\files\\\\Stuttgart\\\\Thesis\\\\NLP\\\\saved_datasets\\\\reqbrain_rep_package\\\\instruct_datasets\\\\zephyr_requirement_generation_dataset'\n",
    "\n",
    "\n",
    "llama_dataset = datasets.load_from_disk(path_llama)\n",
    "falcon_dataset = datasets.load_from_disk(path_falcon)\n",
    "zephyr_dataset = datasets.load_from_disk(path_zephyr)\n",
    "print('==============llama dataset example============',)\n",
    "print(llama_dataset['train'][0]['text'])\n",
    "\n",
    "print('==============falcon dataset example============',)\n",
    "print(falcon_dataset['train'][0]['text'])\n",
    "\n",
    "print('==============zephyr dataset example============',)\n",
    "print(zephyr_dataset['train'][0]['text'])\n",
    "\n",
    "\n",
    "my_komodo_dataset = datasets.load_from_disk(my_path_komodo)\n",
    "my_llama_dataset = datasets.load_from_disk(my_path_llama)\n",
    "my_zephyr_dataset = datasets.load_from_disk(my_path_zepyra)\n",
    "\n",
    "\n",
    "\n",
    "print('==============my_komodo_dataset example============',)\n",
    "print(my_komodo_dataset[0]['text'])\n",
    "\n",
    "print('==============my_llama_dataset example============',)\n",
    "print(my_llama_dataset[0]['text'])\n",
    "\n",
    "print('==============my_zephyr_dataset example============',)\n",
    "print(my_zephyr_dataset[0]['text'])\n",
    "\n",
    "\n",
    "\n",
    "\n",
    "\n",
    "\n"
   ]
  },
  {
   "cell_type": "code",
   "execution_count": null,
   "id": "8e574e7b-7051-4bed-ac1f-524f235bc188",
   "metadata": {},
   "outputs": [],
   "source": []
  },
  {
   "cell_type": "code",
   "execution_count": null,
   "id": "deb91978-531f-413f-9361-e1b55b0bd466",
   "metadata": {},
   "outputs": [],
   "source": [
    "shuffled_my_zephyr_dataset = my_zephyr_dataset.shuffle(seed=42)\n",
    "my_zephyr_train_test_split = shuffled_my_zephyr_dataset.train_test_split(test_size=0.2)\n",
    "print(my_zephyr_train_test_split['train'][1])\n",
    "print(my_zephyr_train_test_split['test'][1])\n"
   ]
  },
  {
   "cell_type": "code",
   "execution_count": null,
   "id": "92325e29-89de-4610-8048-e18cd2dc2983",
   "metadata": {},
   "outputs": [],
   "source": [
    "my_zephyr_train_test_split['train']"
   ]
  },
  {
   "cell_type": "code",
   "execution_count": null,
   "id": "c77dcb9c-0b9f-4756-bf2d-153389d330d4",
   "metadata": {},
   "outputs": [],
   "source": [
    "my_zephyr_train_test_split['test']"
   ]
  },
  {
   "cell_type": "code",
   "execution_count": null,
   "id": "7d33beaf-cd35-425b-86bd-b7909cc252c8",
   "metadata": {},
   "outputs": [],
   "source": [
    "my_zephyr_train_test_split.save_to_disk(\"E:\\\\files\\\\Stuttgart\\\\Thesis\\\\NLP\\\\saved_datasets\\\\final_instruction_dataset_20032024\\\\zepyra_split_22032024\")"
   ]
  },
  {
   "cell_type": "code",
   "execution_count": null,
   "id": "015a31e1-b99e-48cd-89ba-f55a7650b9ef",
   "metadata": {},
   "outputs": [],
   "source": [
    "shuffled_my_llama_dataset = my_llama_dataset.shuffle(seed=42)\n",
    "my_llama_train_test_split = shuffled_my_llama_dataset.train_test_split(test_size=0.2)\n",
    "my_llama_train_test_split.save_to_disk(\"E:\\\\files\\\\Stuttgart\\\\Thesis\\\\NLP\\\\saved_datasets\\\\final_instruction_dataset_20032024\\\\llama_split_22032024\")"
   ]
  },
  {
   "cell_type": "code",
   "execution_count": null,
   "id": "0e19b985-0ece-48f8-85b6-32ea6a16fa0f",
   "metadata": {},
   "outputs": [],
   "source": [
    "shuffled_my_komodo_dataset = my_komodo_dataset.shuffle(seed=42)\n",
    "my_komodo_train_test_split = shuffled_my_komodo_dataset.train_test_split(test_size=0.2)\n",
    "my_komodo_train_test_split.save_to_disk(\"E:\\\\files\\\\Stuttgart\\\\Thesis\\\\NLP\\\\saved_datasets\\\\final_instruction_dataset_20032024\\\\komodo_split_22032024\")"
   ]
  },
  {
   "cell_type": "code",
   "execution_count": null,
   "id": "e3dc6411-3843-4699-947b-f2b115069638",
   "metadata": {},
   "outputs": [],
   "source": []
  }
 ],
 "metadata": {
  "kernelspec": {
   "display_name": "Python 3 (ipykernel)",
   "language": "python",
   "name": "python3"
  },
  "language_info": {
   "codemirror_mode": {
    "name": "ipython",
    "version": 3
   },
   "file_extension": ".py",
   "mimetype": "text/x-python",
   "name": "python",
   "nbconvert_exporter": "python",
   "pygments_lexer": "ipython3",
   "version": "3.10.5"
  }
 },
 "nbformat": 4,
 "nbformat_minor": 5
}
