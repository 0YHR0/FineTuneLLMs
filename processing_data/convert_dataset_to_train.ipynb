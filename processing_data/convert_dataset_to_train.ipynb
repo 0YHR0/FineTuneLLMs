{
 "cells": [
  {
   "cell_type": "code",
   "execution_count": null,
   "id": "602aeb56-8b61-499e-a9c6-ce6b60c7307b",
   "metadata": {
    "tags": []
   },
   "outputs": [],
   "source": [
    "# zepyra\n",
    "# LLama\n",
    "# Komodo\n",
    "\n",
    "# common imports\n",
    "\n",
    "import sys\n",
    "assert sys.version_info >= (3, 5)\n",
    "\n",
    "\n",
    "import sklearn\n",
    "assert sklearn.__version__ >= \"0.20\"\n",
    "\n",
    "import datasets\n",
    "\n",
    "import numpy as np\n",
    "import pandas as pd\n",
    "\n",
    "\n",
    "import os\n",
    "import csv\n",
    "import json\n",
    "\n",
    "\n",
    "import re\n",
    "from tqdm import tqdm\n",
    "\n",
    "np.random.seed(42)"
   ]
  },
  {
   "cell_type": "code",
   "execution_count": null,
   "id": "3c645121-0b59-4b19-930c-fabe4a4f75f7",
   "metadata": {
    "tags": []
   },
   "outputs": [],
   "source": [
    "def load_dataset(path = ''): \n",
    "    with open(path, 'r',encoding=\"utf8\") as dataset:\n",
    "        dataset =  [json.loads(line) for line in dataset.readlines()]\n",
    "    return dataset"
   ]
  },
  {
   "cell_type": "code",
   "execution_count": null,
   "id": "2bcc297e-c7fa-4666-bf82-588a02c91d47",
   "metadata": {
    "tags": []
   },
   "outputs": [],
   "source": []
  },
  {
   "cell_type": "code",
   "execution_count": null,
   "id": "50b8636d-76ab-44ef-987f-33b6c33eaac9",
   "metadata": {
    "tags": []
   },
   "outputs": [],
   "source": [
    "detect_rewrite_dataset_path = 'E:\\\\files\\\\Stuttgart\\\\Thesis\\\\NLP\\\\saved_datasets\\\\final_dataset_for_training_17042024\\\\detect_rewrite.jsonl'\n",
    "generate_dataset_path = 'E:\\\\files\\\\Stuttgart\\\\Thesis\\\\NLP\\\\saved_datasets\\\\final_dataset_for_training_17042024\\\\generate.jsonl'\n",
    "detect_rewrite_dataset = load_dataset(detect_rewrite_dataset_path)\n",
    "generate_dataset = load_dataset(generate_dataset_path)"
   ]
  },
  {
   "cell_type": "code",
   "execution_count": null,
   "id": "9d8146a4-632a-42e1-b25d-f2b24e8424f8",
   "metadata": {},
   "outputs": [],
   "source": [
    "test_ids = [23140,4940,23941,21720,20952,28919,20643,16568,69,230,461,20645,21467,19976,1582,1907,1684,2012,2215,2313,2418,3198,3310,3599,3957,4229,4565,5476]\n",
    "print(len(test_ids))\n",
    "\n",
    "detect_rewrite_dataset_test = [item for item in detect_rewrite_dataset if item['REQID'] in test_ids]\n",
    "detect_rewrite_dataset_train = [item for item in detect_rewrite_dataset if item['REQID'] not in test_ids]\n",
    "\n",
    "generate_dataset_test = [item for item in generate_dataset if item['REQID'] in test_ids]\n",
    "generate_dataset_train = [item for item in generate_dataset if item['REQID'] not in test_ids]\n",
    "\n",
    "# 查看结果\n",
    "print(f\"Number of samples in the detect_rewrite_dataset_test: {len(detect_rewrite_dataset_test)}\")\n",
    "print(f\"Number of samples in the detect_rewrite_dataset_train: {len(detect_rewrite_dataset_train)}\")\n",
    "print(f\"Number of samples in the generate_dataset_test: {len(generate_dataset_test)}\")\n",
    "print(f\"Number of samples in the generate_dataset_train: {len(generate_dataset_train)}\")"
   ]
  },
  {
   "cell_type": "code",
   "execution_count": null,
   "id": "2d361a7f-35c9-4766-b8e6-81f77c10bd29",
   "metadata": {},
   "outputs": [],
   "source": [
    "print(detect_rewrite_dataset_test)"
   ]
  },
  {
   "cell_type": "code",
   "execution_count": null,
   "id": "a217e183-45e1-4fa1-9257-0d4b6e2731de",
   "metadata": {
    "tags": []
   },
   "outputs": [],
   "source": [
    "# {\"text\": \"<s>[INST] What does OPL stand for in the OPL programming language? [/INST] OPL is short for Open Programming Language </s>\"}\n",
    "def to_llama(jsonl_file):\n",
    "    _to_LLAMA = []\n",
    "    for j_line in jsonl_file:\n",
    "        if len(j_line['label']) > 0:\n",
    "            completion = j_line['label'][0]\n",
    "        prompt = j_line['text']\n",
    "        j_line_LLAMA = {'text': f'<s>[INST] {prompt} [/INST] {completion}'}\n",
    "        _to_LLAMA.append(j_line_LLAMA)\n",
    "    return _to_LLAMA\n",
    "\n",
    "\n",
    "def to_zepyra_detect_rewrite(jsonl_file):\n",
    "    _to_zepyra = []\n",
    "    for j_line in jsonl_file:\n",
    "        if len(j_line['label']) > 0:\n",
    "            completion = j_line['label'][0]\n",
    "        prompt = j_line['text']\n",
    "        j_line_zepyra = {'text': f'<|system|>\\n You are a professional requirements engineer who helps users detect Transformational Effects of the given requirement and rewrite to eliminate them. \\n <|user|> \\n {prompt} \\n<|assistant|> \\n {completion}'}\n",
    "        _to_zepyra.append(j_line_zepyra)\n",
    "    return _to_zepyra\n",
    "\n",
    "\n",
    "def to_zepyra_generate(jsonl_file):\n",
    "    _to_zepyra = []\n",
    "    for j_line in jsonl_file:\n",
    "        if len(j_line['label']) > 0:\n",
    "            completion = j_line['label'][0]\n",
    "        prompt = j_line['text']\n",
    "        j_line_zepyra = {'text': f'<|system|>\\n You are a professional requirements engineer who helps users generate requirements free of Transformational Effects. \\n <|user|> \\n {prompt} \\n<|assistant|> \\n {completion}'}\n",
    "        _to_zepyra.append(j_line_zepyra)\n",
    "    return _to_zepyra\n",
    "\n",
    "# LLAMA 3\n",
    "def to_llama3_detect_rewrite(jsonl_file):\n",
    "    _to_llama3 = []\n",
    "    for j_line in jsonl_file:\n",
    "        if len(j_line['label']) > 0:\n",
    "            completion = j_line['label'][0]\n",
    "        prompt = j_line['text']\n",
    "        j_line_llama3 = {'input_for_llama3': f'<|begin_of_text|><|start_header_id|>system<|end_header_id|>\\n You are a professional requirements engineer who helps users detect Transformational Effects of the given requirement and rewrite to eliminate them. \\n <|eot_id|><|start_header_id|>user<|end_header_id|> \\n {prompt} \\n<|eot_id|><|start_header_id|>assistant<|end_header_id|>',\n",
    "                         'completion': f'{completion}'\n",
    "                        }\n",
    "        _to_llama3.append(j_line_llama3)\n",
    "    return _to_llama3\n",
    "\n",
    "\n",
    "def to_llama3_generate(jsonl_file):\n",
    "    _to_llama3 = []\n",
    "    for j_line in jsonl_file:\n",
    "        if len(j_line['label']) > 0:\n",
    "            completion = j_line['label'][0]\n",
    "        prompt = j_line['text']\n",
    "        j_line_llama3 = {'input_for_llama3': f'<|begin_of_text|><|start_header_id|>system<|end_header_id|>\\n You are a professional requirements engineer who helps users generate requirements free of Transformational Effects. \\n <|eot_id|><|start_header_id|>user<|end_header_id|> \\n {prompt} \\n<|eot_id|><|start_header_id|>assistant<|end_header_id|>',\n",
    "                         'completion': f'{completion}'\n",
    "                        }\n",
    "        _to_llama3.append(j_line_llama3)\n",
    "    return _to_llama3\n",
    "\n",
    "\n",
    "# TODO\n",
    "def to_Komodo(jsonl_file):\n",
    "    _to_Komodo = []\n",
    "    for j_line in jsonl_file:\n",
    "        if len(j_line['label']) > 0:\n",
    "            completion = j_line['label'][0]\n",
    "        prompt = j_line['text']\n",
    "        j_line_Komodo = {'text': f'### Instruction: {prompt} ### Assistant: {completion}'}\n",
    "        _to_Komodo.append(j_line_Komodo)\n",
    "    return _to_Komodo"
   ]
  },
  {
   "cell_type": "code",
   "execution_count": null,
   "id": "155b8ea2-a018-4957-9992-ceaf3ba9e6ca",
   "metadata": {
    "tags": []
   },
   "outputs": [],
   "source": [
    "my_zepyra_detect_rewrite_dataset_test = datasets.Dataset.from_pandas(pd.DataFrame(to_zepyra_detect_rewrite(detect_rewrite_dataset_test)))\n",
    "my_zepyra_detect_rewrite_dataset_train = datasets.Dataset.from_pandas(pd.DataFrame(to_zepyra_detect_rewrite(detect_rewrite_dataset_train)))\n",
    "\n",
    "my_zepyra_generate_dataset_test = datasets.Dataset.from_pandas(pd.DataFrame(to_zepyra_generate(generate_dataset_test)))\n",
    "my_zepyra_generate_dataset_train = datasets.Dataset.from_pandas(pd.DataFrame(to_zepyra_generate(generate_dataset_train)))\n",
    "\n",
    "my_zepyra_detect_rewrite_dataset_test.save_to_disk('my_zepyra_detect_rewrite_dataset_test_17040204')\n",
    "my_zepyra_detect_rewrite_dataset_train.save_to_disk('my_zepyra_detect_rewrite_dataset_train_17042024')\n",
    "my_zepyra_generate_dataset_test.save_to_disk('my_zepyra_generate_dataset_test_17042024')\n",
    "my_zepyra_generate_dataset_train.save_to_disk('my_zepyra_generate_dataset_train_17042024')"
   ]
  },
  {
   "cell_type": "code",
   "execution_count": null,
   "id": "586a2118-9bf4-4a74-87ec-b2c0dce37a37",
   "metadata": {},
   "outputs": [],
   "source": [
    "# my_LLAMA_dataset = datasets.Dataset.from_pandas(pd.DataFrame(to_LLAMA(init_dataset)))\n",
    "# my_LLAMA_dataset.save_to_disk('llama_instructions_13042024')\n",
    "\n",
    "\n",
    "\n",
    "from datasets import load_dataset, concatenate_datasets\n",
    "\n",
    "my_zepyra_combined_dataset_train = concatenate_datasets([my_zepyra_detect_rewrite_dataset_train, my_zepyra_generate_dataset_train])\n",
    "my_zepyra_combined_dataset_test = concatenate_datasets([my_zepyra_detect_rewrite_dataset_test, my_zepyra_generate_dataset_test])\n",
    "my_zepyra_combined_dataset_train.save_to_disk('my_zepyra_combined_dataset_train_17040204')\n",
    "my_zepyra_combined_dataset_test.save_to_disk('my_zepyra_combined_dataset_test_17040204')\n"
   ]
  },
  {
   "cell_type": "code",
   "execution_count": null,
   "id": "a7e9e766-7e7e-4275-9831-47123f967fb0",
   "metadata": {},
   "outputs": [],
   "source": [
    "# my_Komodo_dataset = datasets.Dataset.from_pandas(pd.DataFrame(to_Komodo(init_dataset)))\n",
    "# my_Komodo_dataset.save_to_disk('Komodo_instructions_13042024')\n",
    "\n",
    "print(my_zepyra_combined_dataset_train[100]['text'])"
   ]
  },
  {
   "cell_type": "code",
   "execution_count": null,
   "id": "8f35150f-1fef-41a3-b9d7-9bdb83f3ed8f",
   "metadata": {},
   "outputs": [],
   "source": [
    "# LLAMA\n",
    "my_llama_detect_rewrite_dataset_test = datasets.Dataset.from_pandas(pd.DataFrame(to_llama(detect_rewrite_dataset_test)))\n",
    "my_llama_detect_rewrite_dataset_train = datasets.Dataset.from_pandas(pd.DataFrame(to_llama(detect_rewrite_dataset_train)))\n",
    "\n",
    "my_llama_generate_dataset_test = datasets.Dataset.from_pandas(pd.DataFrame(to_llama(generate_dataset_test)))\n",
    "my_llama_generate_dataset_train = datasets.Dataset.from_pandas(pd.DataFrame(to_llama(generate_dataset_train)))\n",
    "\n",
    "my_llama_detect_rewrite_dataset_test.save_to_disk('my_llama_detect_rewrite_dataset_test_25040204')\n",
    "my_llama_detect_rewrite_dataset_train.save_to_disk('my_llama_detect_rewrite_dataset_train_25042024')\n",
    "my_llama_generate_dataset_test.save_to_disk('my_llama_generate_dataset_test_25042024')\n",
    "my_llama_generate_dataset_train.save_to_disk('my_llama_generate_dataset_train_25042024')\n",
    "\n",
    "from datasets import load_dataset, concatenate_datasets\n",
    "\n",
    "my_llama_combined_dataset_train = concatenate_datasets([my_llama_detect_rewrite_dataset_train, my_llama_generate_dataset_train])\n",
    "my_llama_combined_dataset_test = concatenate_datasets([my_llama_detect_rewrite_dataset_test, my_llama_generate_dataset_test])\n",
    "my_llama_combined_dataset_train.save_to_disk('my_llama_combined_dataset_train_25040204')\n",
    "my_llama_combined_dataset_test.save_to_disk('my_llama_combined_dataset_test_25040204')\n",
    "\n",
    "print(my_zepyra_combined_dataset_train[100]['text'])"
   ]
  },
  {
   "cell_type": "code",
   "execution_count": null,
   "id": "82f3a629-4eaf-41ef-8d14-bfdfc9e00c05",
   "metadata": {},
   "outputs": [],
   "source": [
    "# LLAMA 3\n",
    "my_llama3_detect_rewrite_dataset_test = datasets.Dataset.from_pandas(pd.DataFrame(to_llama3_detect_rewrite(detect_rewrite_dataset_test)))\n",
    "my_llama3_detect_rewrite_dataset_train = datasets.Dataset.from_pandas(pd.DataFrame(to_llama3_detect_rewrite(detect_rewrite_dataset_train)))\n",
    "\n",
    "my_llama3_generate_dataset_test = datasets.Dataset.from_pandas(pd.DataFrame(to_llama3_generate(generate_dataset_test)))\n",
    "my_llama3_generate_dataset_train = datasets.Dataset.from_pandas(pd.DataFrame(to_llama3_generate(generate_dataset_train)))\n",
    "\n",
    "my_llama3_detect_rewrite_dataset_test.save_to_disk('my_llama3_detect_rewrite_dataset_test_07052024')\n",
    "my_llama3_detect_rewrite_dataset_train.save_to_disk('my_llama3_detect_rewrite_dataset_train_07052024')\n",
    "my_llama3_generate_dataset_test.save_to_disk('my_llama3_generate_dataset_test_07052024')\n",
    "my_llama3_generate_dataset_train.save_to_disk('my_llama3_generate_dataset_train_07052024')\n",
    "\n",
    "from datasets import load_dataset, concatenate_datasets\n",
    "\n",
    "my_llama3_combined_dataset_train = concatenate_datasets([my_llama3_detect_rewrite_dataset_train, my_llama3_generate_dataset_train])\n",
    "my_llama3_combined_dataset_test = concatenate_datasets([my_llama3_detect_rewrite_dataset_test, my_llama3_generate_dataset_test])\n",
    "my_llama3_combined_dataset_train.save_to_disk('my_llama3_combined_dataset_train_07052024')\n",
    "my_llama3_combined_dataset_test.save_to_disk('my_llama3_combined_dataset_test_07052024')\n",
    "\n",
    "print(my_llama3_combined_dataset_train[100]['input_for_llama3'])"
   ]
  },
  {
   "cell_type": "code",
   "execution_count": null,
   "id": "545b2a04-a12b-4804-9b7c-a07cec019f9e",
   "metadata": {},
   "outputs": [],
   "source": [
    "print(my_llama3_combined_dataset_train[10]['completion'])"
   ]
  },
  {
   "cell_type": "code",
   "execution_count": null,
   "id": "ef2c6e66-4072-469b-8867-c9503269e253",
   "metadata": {},
   "outputs": [],
   "source": [
    "def combine_columns(example):\n",
    "    example[\"text\"] = example[\"input_for_llama3\"] + example[\"completion\"]\n",
    "    return example\n",
    "\n",
    "# 对数据集进行转换，将 \"text\" 列添加到数据集中\n",
    "dataset_for_training = my_llama3_combined_dataset_train.map(combine_columns)\n",
    "print(dataset_for_training)"
   ]
  },
  {
   "cell_type": "code",
   "execution_count": null,
   "id": "86cd6262-e657-4187-bb59-cb303c53d636",
   "metadata": {},
   "outputs": [],
   "source": [
    "print(dataset_for_training['text'])"
   ]
  },
  {
   "cell_type": "code",
   "execution_count": null,
   "id": "bd0eda84-3f83-4f64-95a5-65f59e1f98e7",
   "metadata": {},
   "outputs": [],
   "source": [
    "dataset_for_training.save_to_disk('my_llama3_combined_dataset_for_training_07052024')"
   ]
  },
  {
   "cell_type": "code",
   "execution_count": null,
   "id": "16e3adaf-20f8-4a31-a32d-7621cfa99379",
   "metadata": {},
   "outputs": [],
   "source": []
  }
 ],
 "metadata": {
  "kernelspec": {
   "display_name": "Python 3 (ipykernel)",
   "language": "python",
   "name": "python3"
  },
  "language_info": {
   "codemirror_mode": {
    "name": "ipython",
    "version": 3
   },
   "file_extension": ".py",
   "mimetype": "text/x-python",
   "name": "python",
   "nbconvert_exporter": "python",
   "pygments_lexer": "ipython3",
   "version": "3.10.5"
  }
 },
 "nbformat": 4,
 "nbformat_minor": 5
}
