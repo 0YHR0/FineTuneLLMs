{
 "cells": [
  {
   "cell_type": "code",
   "execution_count": 1,
   "id": "0e6ac062-1156-4be2-9c66-b1317590e476",
   "metadata": {},
   "outputs": [],
   "source": [
    "import json\n",
    "\n",
    "\n",
    "# 打开原始的jsonl文件进行读取\n",
    "with open('E:\\\\files\\\\Stuttgart\\\\Thesis\\\\NLP\\\\saved_datasets\\\\Review_dataset_03042024\\\\init_dataset.jsonl', 'r', encoding='utf-8') as original_file:\n",
    "    # 打开一个新的文件用于写入转换后的数据\n",
    "    with open('E:\\\\files\\\\Stuttgart\\\\Thesis\\\\NLP\\\\saved_datasets\\\\Review_dataset_03042024\\\\init_dataset_convert.jsonl', 'w', encoding='utf-8') as converted_file:\n",
    "        # 遍历原始文件中的每一行\n",
    "        for line in original_file:\n",
    "            # 将每行的文本转换为字典\n",
    "            data = json.loads(line)\n",
    "            # 转换格式：将output变为列表，input从列表变为单个字符串\n",
    "            converted_data = {\n",
    "                \"id\": data[\"id\"],\n",
    "                \"output\": [data[\"output\"]],\n",
    "                \"Project Name\": data[\"Project Name\"],\n",
    "                \"Subproject Name\": data[\"Subproject Name\"],\n",
    "                \"Sources Type\": data[\"Sources Type\"],\n",
    "                \"REQID\": data[\"REQID\"],\n",
    "                \"REQID_expanded\": data[\"REQID_expanded\"],\n",
    "                \"KM100L6V2 Label\": data[\"KM100L6V2 Label\"],\n",
    "                \"text\": data[\"text\"][0]\n",
    "            }\n",
    "            # 将转换后的字典转换回JSON格式的字符串，并写入新文件\n",
    "            converted_file.write(json.dumps(converted_data) + '\\n')"
   ]
  },
  {
   "cell_type": "code",
   "execution_count": null,
   "id": "46c51f2c-8bef-4c48-9a33-e81358f78e1c",
   "metadata": {},
   "outputs": [],
   "source": []
  }
 ],
 "metadata": {
  "kernelspec": {
   "display_name": "Python 3 (ipykernel)",
   "language": "python",
   "name": "python3"
  },
  "language_info": {
   "codemirror_mode": {
    "name": "ipython",
    "version": 3
   },
   "file_extension": ".py",
   "mimetype": "text/x-python",
   "name": "python",
   "nbconvert_exporter": "python",
   "pygments_lexer": "ipython3",
   "version": "3.10.5"
  }
 },
 "nbformat": 4,
 "nbformat_minor": 5
}
