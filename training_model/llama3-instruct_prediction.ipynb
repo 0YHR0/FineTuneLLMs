{
 "cells": [
  {
   "cell_type": "code",
   "execution_count": null,
   "id": "49be96bd-de36-48cd-8ecd-4f6048a8b3e0",
   "metadata": {},
   "outputs": [],
   "source": [
    "import torch\n",
    "import transformers\n",
    "from torch import cuda, bfloat16\n",
    "\n",
    "\n",
    "device = f'cuda:{cuda.current_device()}' if cuda.is_available() else 'cpu'\n",
    "device"
   ]
  },
  {
   "cell_type": "code",
   "execution_count": null,
   "id": "6b304279-e44b-41e4-9e9b-15aafc1572d3",
   "metadata": {},
   "outputs": [],
   "source": [
    "model_name = 'Kastanie99/Meta-Llama-3-8B-Instruct-Haoran-MT-07052024'\n",
    "\n",
    "model = transformers.AutoModelForCausalLM.from_pretrained(model_name)\n",
    "tokenizer = transformers.AutoTokenizer.from_pretrained(model_name, use_fast = False)\n",
    "\n",
    "tokenizer.pad_token = tokenizer.eos_token\n",
    "tokenizer.padding_side = \"right\"\n",
    "\n",
    "model.eval()\n",
    "model.to(device)\n",
    "print(f\"Model loaded on {device}\")"
   ]
  },
  {
   "cell_type": "code",
   "execution_count": null,
   "id": "abcdb1fb-447a-4033-81e1-2ff0bde8487d",
   "metadata": {},
   "outputs": [],
   "source": [
    "___inst = tokenizer.convert_ids_to_tokens(tokenizer(\"<|begin_of_text|>\")[\"input_ids\"])[1:]\n",
    "# ___java = tokenizer.convert_ids_to_tokens(tokenizer(\"```java\")[\"input_ids\"])#[1:]\n",
    "___start_of_ = tokenizer.convert_ids_to_tokens(tokenizer(\"<|start_header_id|>\")[\"input_ids\"])[1:]\n",
    "___eot = tokenizer.convert_ids_to_tokens(tokenizer(\"<|eot_id|>\")[\"input_ids\"])[1:]\n",
    "___end_of = tokenizer.convert_ids_to_tokens(tokenizer(\"<|end_of_text|>\")[\"input_ids\"])[1:]\n",
    "# ___hash_tag = tokenizer.convert_ids_to_tokens(tokenizer(\"#\")[\"input_ids\"])[1:]\n",
    "# ___star = tokenizer.convert_ids_to_tokens(tokenizer(\"*\")[\"input_ids\"])[1:]\n",
    "\n",
    "stop_token_ids = [\n",
    "    tokenizer.convert_tokens_to_ids(x) for x in [___inst, ___start_of_, [tokenizer.eos_token], ___end_of, ___eot, ['```']]\n",
    "]\n",
    "\n",
    "stop_token_ids = [torch.LongTensor(x).to(device) for x in stop_token_ids]"
   ]
  },
  {
   "cell_type": "code",
   "execution_count": null,
   "id": "106fa892-abd9-49fa-9dd3-4a27457a9281",
   "metadata": {},
   "outputs": [],
   "source": [
    "from transformers import StoppingCriteria, StoppingCriteriaList\n",
    "\n",
    "\n",
    "class StopOnTokens(StoppingCriteria):\n",
    "    def __call__(self, input_ids: torch.LongTensor, scores: torch.FloatTensor, **kwargs) -> bool:\n",
    "        for stop_ids in stop_token_ids:\n",
    "            if torch.eq(input_ids[0][-len(stop_ids):], stop_ids).all():\n",
    "                return True\n",
    "        return False\n",
    "\n",
    "stopping_criteria = StoppingCriteriaList([StopOnTokens()])"
   ]
  },
  {
   "cell_type": "code",
   "execution_count": null,
   "id": "78368713-e09e-4cef-855a-7b7412813276",
   "metadata": {},
   "outputs": [],
   "source": [
    "# stopping_criteria(\n",
    "#     torch.LongTensor([tokenizer.convert_tokens_to_ids(_)]).to(device),\n",
    "#     torch.FloatTensor([0.0])\n",
    "# )"
   ]
  },
  {
   "cell_type": "code",
   "execution_count": null,
   "id": "2c50a943-e82d-441b-a3ff-5aaa443b06e7",
   "metadata": {},
   "outputs": [],
   "source": [
    "pipe = transformers.pipeline(\n",
    "    model = model,\n",
    "    tokenizer = tokenizer,\n",
    "    return_full_text = True, # Set it to True when combining with LangChain\n",
    "    task='text-generation',\n",
    "    device=device,\n",
    "    stopping_criteria = stopping_criteria,  \n",
    "    temperature = 0.1,\n",
    "    top_p = 0.15,  \n",
    "    top_k = 0,  \n",
    "    max_new_tokens = 512,  \n",
    "    repetition_penalty = 1.3\n",
    ")"
   ]
  },
  {
   "cell_type": "code",
   "execution_count": null,
   "id": "eff4e48f-be4a-4d68-b586-1049de280188",
   "metadata": {},
   "outputs": [],
   "source": [
    "import datasets\n",
    "\n",
    "evaluation_set = datasets.load_from_disk(\"/pfs/data5/home/st/st_us-051500/st_st180358/llama3_training/my_llama3_combined_dataset_test_07052024\")\n",
    "evaluation_set"
   ]
  },
  {
   "cell_type": "code",
   "execution_count": null,
   "id": "8a7a289d-9746-43f9-9d1d-2555a57b394e",
   "metadata": {},
   "outputs": [],
   "source": [
    "# def extract_fields(example):\n",
    "\n",
    "#     query_start = example['text'].find('<s>[INST]') + 10  # 找到 '#' 的索引，并向后移动一位\n",
    "#     query_end = example['text'].find('[/INST]')  # 找到 '%' 的索引\n",
    "#     query_part = example['text'][query_start:query_end]  # 切片获取两个索引之间的字符串\n",
    "\n",
    "#     completion_start = example['text'].find('[/INST]') + 8\n",
    "#     completion_part = example['text'][completion_start:]\n",
    "\n",
    "#     input_end = example['text'].find('[/INST]')\n",
    "#     input_for_llama = example['text'][:input_end] + '[/INST]\\n'\n",
    "    \n",
    "#     # 从文本中分割出所需内容\n",
    "#     # parts = example['text'].split('\"\\n\\n')\n",
    "#     # query_part = parts[0].split('\"')[-1].strip()\n",
    "#     # completion_part = parts[1].split('Rewritten requirement:\\n\"')[-1].strip().rstrip('\"')\n",
    "    \n",
    "#     # 返回新的字段\n",
    "#     return {'query': query_part, 'completion': completion_part, 'input_for_llama': input_for_llama}\n",
    "\n",
    "# # 应用map函数\n",
    "# updated_dataset = evaluation_set.map(extract_fields)"
   ]
  },
  {
   "cell_type": "code",
   "execution_count": null,
   "id": "09e779c6-8155-4e1a-8de4-d592b7be5b55",
   "metadata": {},
   "outputs": [],
   "source": [
    "print(updated_dataset[1]['input_for_llama'])    \n",
    "print(\"``````````````````````\")\n",
    "print(updated_dataset[1]['query'])\n",
    "print(\"``````````````````````\")\n",
    "print(updated_dataset[1]['completion'])"
   ]
  },
  {
   "cell_type": "code",
   "execution_count": null,
   "id": "f0e36ecd-15b0-4a35-93c5-4f03d7e6caf5",
   "metadata": {},
   "outputs": [],
   "source": [
    "from tqdm import tqdm\n",
    "\n",
    "completion = []\n",
    "\n",
    "for input_for_llama3 in tqdm(evaluation_set['input_for_llama3']):\n",
    "    result = result = pipe(f\"{input_for_llama3}\")\n",
    "    result = result[0]['generated_text'].split('<|end_header_id|>')[-1].strip(\"[/INST]\")\n",
    "    result = result.strip(\"```java\")\n",
    "    result = result.strip(\"/end_of_\")\n",
    "    result = result.strip(\" \")\n",
    "    result = result.strip(\"[/user]\")\n",
    "    result = result.strip(\"[/Inst\")\n",
    "    result = result.strip(\"```\")\n",
    "    result = result.strip(\"#\")\n",
    "    result = result.strip(\"*\")\n",
    "    result = result.strip(\" \")\n",
    "    completion.append(result)"
   ]
  },
  {
   "cell_type": "code",
   "execution_count": null,
   "id": "150213a3-3092-4509-8e35-2fbbbf65c28d",
   "metadata": {},
   "outputs": [],
   "source": [
    "updated_dataset = evaluation_set.add_column(\"llama3_8B_Instruct_preds\", completion)"
   ]
  },
  {
   "cell_type": "code",
   "execution_count": null,
   "id": "a1c45371-9cc9-4e1d-87f5-715db7749ae4",
   "metadata": {},
   "outputs": [],
   "source": [
    "updated_dataset.save_to_disk(\"/pfs/data5/home/st/st_us-051500/st_st180358/llama3_training/my_llama3_after_prediction_08052024\")"
   ]
  },
  {
   "cell_type": "code",
   "execution_count": null,
   "id": "8363bad2-e1f1-43d9-9784-dc6e7fbf2ed3",
   "metadata": {},
   "outputs": [],
   "source": [
    "result = pipe('''\n",
    "<|begin_of_text|><|start_header_id|>system<|end_header_id|>\n",
    " You are a professional requirements engineer who helps users detect Transformational Effects of the given requirement and rewrite to eliminate them. \n",
    " <|eot_id|><|start_header_id|>user<|end_header_id|> \n",
    " Detect and rewrite the given requirement to eliminate Transformational Effects:\n",
    "\"NPAC SMS shall notify the Old and New Service Provider when a Subscription Version is set to conflict at the time of Subscription Version creation for an Inter-Service Provider or port.\" \n",
    "<|eot_id|><|start_header_id|>assistant<|end_header_id|>\n",
    "''')"
   ]
  },
  {
   "cell_type": "code",
   "execution_count": null,
   "id": "6f656a40-a304-4dac-be37-1426bab75a06",
   "metadata": {},
   "outputs": [],
   "source": [
    "print(result[0]['generated_text'])"
   ]
  },
  {
   "cell_type": "code",
   "execution_count": null,
   "id": "5a16a0e2-21c1-4e65-8472-8de58f383d19",
   "metadata": {},
   "outputs": [],
   "source": []
  }
 ],
 "metadata": {
  "kernelspec": {
   "display_name": "Python 3 (ipykernel)",
   "language": "python",
   "name": "python3"
  },
  "language_info": {
   "codemirror_mode": {
    "name": "ipython",
    "version": 3
   },
   "file_extension": ".py",
   "mimetype": "text/x-python",
   "name": "python",
   "nbconvert_exporter": "python",
   "pygments_lexer": "ipython3",
   "version": "3.10.5"
  }
 },
 "nbformat": 4,
 "nbformat_minor": 5
}
